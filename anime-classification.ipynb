{
 "cells": [
  {
   "cell_type": "code",
   "execution_count": 18,
   "id": "a9922836",
   "metadata": {
    "scrolled": true
   },
   "outputs": [],
   "source": [
    "import time\n",
    "import os\n",
    "import skvideo.io\n",
    "import random\n",
    "import numpy as np\n",
    "import torch.nn.functional as F\n",
    "from torchvision import datasets, transforms\n",
    "from DataSet import BatchDataset\n",
    "import torch\n",
    "import torch.nn  as nn\n",
    "from tqdm import tqdm\n",
    "import cv2\n",
    "from PIL import Image, ImageDraw, ImageFont\n",
    "import matplotlib.pyplot as plt\n",
    "from scipy import spatial\n",
    "import seaborn as sns\n",
    "import shutil\n",
    "import sys\n",
    "import math\n",
    "import pandas as pd\n",
    "from sklearn.metrics import confusion_matrix\n",
    "import seaborn as sns\n",
    "from sklearn.metrics import classification_report\n",
    "from sklearn.metrics import accuracy_score\n",
    "\n",
    "device = torch.device(\"cuda:0\" if torch.cuda.is_available() else \"cpu\")"
   ]
  },
  {
   "cell_type": "code",
   "execution_count": 2,
   "id": "44779027",
   "metadata": {},
   "outputs": [],
   "source": [
    "path=\"リサイズ\"\n",
    "category_key=[i for i in os.listdir(path) ]\n",
    "category_id=[i for i in range(len(category_key))]\n",
    "category={}\n",
    "for i,j in zip(category_key,category_id):\n",
    "    category[i]=j\n",
    "path=[os.path.join(path,i) for i in os.listdir(path) ]\n",
    "files=[os.path.join(i,j) for i in path for j in os.listdir(i)]\n",
    "data=[]\n",
    "for file in files:\n",
    "    data.append([file,category[file.split(\"\\\\\")[1]]])\n",
    "        "
   ]
  },
  {
   "cell_type": "code",
   "execution_count": 3,
   "id": "fbabab9d",
   "metadata": {},
   "outputs": [],
   "source": [
    "image_size1,image_size2=1080//8,1920//8\n",
    "#1シーンのフレーム数\n",
    "T=10\n",
    "#カラーチャネル3->1に変換してモデルに入力\n",
    "n_channels=1"
   ]
  },
  {
   "cell_type": "code",
   "execution_count": 4,
   "id": "19cade86",
   "metadata": {},
   "outputs": [],
   "source": [
    "def transform(sample,T):\n",
    "    video=sample[\"video\"]\n",
    "    label=sample[\"labels\"]\n",
    "    path=sample[\"paths\"]\n",
    "    trans_video = torch.empty(n_channels,T,image_size1,image_size2)\n",
    "    trans = transforms.Compose([\n",
    "    transforms.ToPILImage(),\n",
    "    transforms.Grayscale(1),\n",
    "    transforms.Resize((image_size1,image_size2)),\n",
    "    transforms.ToTensor(),\n",
    "    transforms.Normalize((0.5, ), (0.5, )),\n",
    "    ])\n",
    "    video = torch.Tensor(trim(video,T))\n",
    "    for i in range(T):\n",
    "        img = video[:,i]\n",
    "        img = trans(img)\n",
    "        img=img.reshape(n_channels,image_size1,image_size2)\n",
    "        trans_video[:,i] = img\n",
    "    sample = {'video': trans_video, 'labels': label,'paths':path}\n",
    "    return sample\n",
    "\n",
    "def trim(video,T):\n",
    "    start = np.random.randint(0, video.shape[1] - (T+1))\n",
    "    end = start + T\n",
    "    return video[:, start:end, :, :]"
   ]
  },
  {
   "cell_type": "code",
   "execution_count": 5,
   "id": "13446435",
   "metadata": {},
   "outputs": [],
   "source": [
    "\n",
    "random.seed(100)\n",
    "random.shuffle(data)\n",
    "n_train=int(len(data)*0.8)\n",
    "n_valid=int(len(data)*0.1)\n",
    "n_test=int(len(data)-n_train-n_valid)\n",
    "d=[]\n",
    "l=[]\n",
    "for i in data:\n",
    "    d.append(i[0])\n",
    "    l.append(i[1])"
   ]
  },
  {
   "cell_type": "code",
   "execution_count": 6,
   "id": "20cc4366",
   "metadata": {},
   "outputs": [],
   "source": [
    "train_dataset = BatchDataset(\n",
    "    files=d[:n_train],\n",
    "    labels=l[:n_train],\n",
    "    T=T,\n",
    "    transform=transform\n",
    "    )\n",
    "valid_dataset = BatchDataset(\n",
    "    files=d[n_train:n_train+n_valid],\n",
    "    labels=l[n_train:n_train+n_valid],\n",
    "    T=T,\n",
    "    transform=transform\n",
    "    )\n",
    "test_dataset = BatchDataset(\n",
    "    files=d[n_train+n_valid:],\n",
    "    labels=l[n_train+n_valid:],\n",
    "    T=T,\n",
    "    transform=transform\n",
    "    )\n",
    "\n",
    "train_loader = torch.utils.data.DataLoader(\n",
    "    dataset=train_dataset,\n",
    "    batch_size=48,\n",
    "    shuffle=True,\n",
    "    num_workers=0\n",
    "    )\n",
    "valid_loader = torch.utils.data.DataLoader(\n",
    "    dataset=valid_dataset,\n",
    "    batch_size=16,\n",
    "    shuffle=True,\n",
    "    num_workers=0\n",
    "    )\n",
    "test_loader = torch.utils.data.DataLoader(\n",
    "    dataset=test_dataset,\n",
    "    batch_size=32,\n",
    "    shuffle=False,\n",
    "    num_workers=0\n",
    "    )"
   ]
  },
  {
   "cell_type": "code",
   "execution_count": null,
   "id": "f834a18d",
   "metadata": {},
   "outputs": [],
   "source": []
  },
  {
   "cell_type": "code",
   "execution_count": 7,
   "id": "a1031646",
   "metadata": {},
   "outputs": [],
   "source": [
    "class VideoComp(nn.Module):\n",
    "    def __init__(self, ndf=32, ngpu=1,category=2):\n",
    "        super().__init__()\n",
    "        self.ngpu = ngpu\n",
    "        self.ndf = ndf\n",
    "        self.category = category\n",
    "        self.image_size = (1080//8,1920//8)\n",
    "        self.n_channels = 1\n",
    "        self.encoder = nn.Sequential(\n",
    "            nn.Conv3d(self.n_channels, ndf, 3, 2, 1, bias=False),\n",
    "            nn.BatchNorm3d(ndf),\n",
    "            nn.ReLU(inplace=True),\n",
    "            nn.Conv3d(ndf, ndf * 2, 3, 2, 1, bias=False),\n",
    "            nn.BatchNorm3d(ndf * 2),\n",
    "            nn.ReLU(inplace=True),\n",
    "            nn.Conv3d(ndf * 2, ndf * 4, 3, 2, 1, bias=False),\n",
    "            nn.BatchNorm3d(ndf * 4),\n",
    "            nn.ReLU(inplace=True),\n",
    "            nn.Conv3d(ndf * 4, ndf * 8, 3, 2, 1, bias=False),\n",
    "            nn.BatchNorm3d(ndf * 8),\n",
    "            nn.ReLU(inplace=True),\n",
    "        )\n",
    "        self.fc1=nn.Linear(34560,4000)\n",
    "        self.relu=nn.ReLU(inplace=True)\n",
    "        self.fc2=nn.Linear(4000,category)\n",
    "        \n",
    "    def forward(self,x):\n",
    "        x=self.encoder(x)\n",
    "        x = x.view(x.size()[0], -1)\n",
    "        x=self.relu(self.fc1(x))\n",
    "        x=self.fc2(x)\n",
    "        return x"
   ]
  },
  {
   "cell_type": "code",
   "execution_count": 8,
   "id": "616996a7",
   "metadata": {},
   "outputs": [],
   "source": [
    "model=VideoComp(category=len(category))\n",
    "model.to(device)\n",
    "lr=1e-5\n",
    "criterion= nn.CrossEntropyLoss().to(device)\n",
    "optimizer=torch.optim.Adam(model.parameters(), lr=lr)\n",
    "dataloaders=dict({\"train\":train_loader,\"valid\":valid_loader,\"test\":test_loader})"
   ]
  },
  {
   "cell_type": "code",
   "execution_count": 9,
   "id": "85abb396",
   "metadata": {},
   "outputs": [],
   "source": [
    "train_loss=[]\n",
    "train_acc=[]\n",
    "test_loss=[]\n",
    "test_acc=[]"
   ]
  },
  {
   "cell_type": "code",
   "execution_count": 13,
   "id": "4ff58b09",
   "metadata": {
    "scrolled": true
   },
   "outputs": [
    {
     "name": "stdout",
     "output_type": "stream",
     "text": [
      "2022/07/30 10:37:18\n"
     ]
    },
    {
     "name": "stderr",
     "output_type": "stream",
     "text": [
      "116it [20:28, 10.59s/it]\n"
     ]
    },
    {
     "name": "stdout",
     "output_type": "stream",
     "text": [
      "Time 2022/07/30 10:57:47 | Epoch 1/10|train  | Loss:0.2233 Acc:0.9583\n"
     ]
    },
    {
     "name": "stderr",
     "output_type": "stream",
     "text": [
      "44it [02:36,  3.57s/it]\n"
     ]
    },
    {
     "name": "stdout",
     "output_type": "stream",
     "text": [
      "Time 2022/07/30 11:00:24 | Epoch 1/10|valid  | Loss:0.6932 Acc:0.8314\n"
     ]
    },
    {
     "name": "stderr",
     "output_type": "stream",
     "text": [
      "116it [20:48, 10.76s/it]\n"
     ]
    },
    {
     "name": "stdout",
     "output_type": "stream",
     "text": [
      "Time 2022/07/30 11:21:12 | Epoch 2/10|train  | Loss:0.1875 Acc:0.9674\n"
     ]
    },
    {
     "name": "stderr",
     "output_type": "stream",
     "text": [
      "44it [02:39,  3.62s/it]\n"
     ]
    },
    {
     "name": "stdout",
     "output_type": "stream",
     "text": [
      "Time 2022/07/30 11:23:51 | Epoch 2/10|valid  | Loss:0.7043 Acc:0.8184\n"
     ]
    },
    {
     "name": "stderr",
     "output_type": "stream",
     "text": [
      "116it [20:37, 10.67s/it]\n"
     ]
    },
    {
     "name": "stdout",
     "output_type": "stream",
     "text": [
      "Time 2022/07/30 11:44:28 | Epoch 3/10|train  | Loss:0.1699 Acc:0.9719\n"
     ]
    },
    {
     "name": "stderr",
     "output_type": "stream",
     "text": [
      "44it [02:39,  3.61s/it]\n"
     ]
    },
    {
     "name": "stdout",
     "output_type": "stream",
     "text": [
      "Time 2022/07/30 11:47:07 | Epoch 3/10|valid  | Loss:0.6130 Acc:0.8530\n"
     ]
    },
    {
     "name": "stderr",
     "output_type": "stream",
     "text": [
      "116it [20:52, 10.79s/it]\n"
     ]
    },
    {
     "name": "stdout",
     "output_type": "stream",
     "text": [
      "Time 2022/07/30 12:07:59 | Epoch 4/10|train  | Loss:0.1554 Acc:0.9750\n"
     ]
    },
    {
     "name": "stderr",
     "output_type": "stream",
     "text": [
      "44it [02:41,  3.67s/it]\n"
     ]
    },
    {
     "name": "stdout",
     "output_type": "stream",
     "text": [
      "Time 2022/07/30 12:10:41 | Epoch 4/10|valid  | Loss:0.6139 Acc:0.8573\n"
     ]
    },
    {
     "name": "stderr",
     "output_type": "stream",
     "text": [
      "116it [20:47, 10.75s/it]\n"
     ]
    },
    {
     "name": "stdout",
     "output_type": "stream",
     "text": [
      "Time 2022/07/30 12:31:28 | Epoch 5/10|train  | Loss:0.1446 Acc:0.9735\n"
     ]
    },
    {
     "name": "stderr",
     "output_type": "stream",
     "text": [
      "44it [02:38,  3.60s/it]\n"
     ]
    },
    {
     "name": "stdout",
     "output_type": "stream",
     "text": [
      "Time 2022/07/30 12:34:07 | Epoch 5/10|valid  | Loss:0.6122 Acc:0.8487\n"
     ]
    },
    {
     "name": "stderr",
     "output_type": "stream",
     "text": [
      "116it [20:34, 10.65s/it]\n"
     ]
    },
    {
     "name": "stdout",
     "output_type": "stream",
     "text": [
      "Time 2022/07/30 12:54:42 | Epoch 6/10|train  | Loss:0.1293 Acc:0.9757\n"
     ]
    },
    {
     "name": "stderr",
     "output_type": "stream",
     "text": [
      "44it [02:39,  3.62s/it]\n"
     ]
    },
    {
     "name": "stdout",
     "output_type": "stream",
     "text": [
      "Time 2022/07/30 12:57:21 | Epoch 6/10|valid  | Loss:0.5919 Acc:0.8617\n"
     ]
    },
    {
     "name": "stderr",
     "output_type": "stream",
     "text": [
      "116it [21:05, 10.91s/it]\n"
     ]
    },
    {
     "name": "stdout",
     "output_type": "stream",
     "text": [
      "Time 2022/07/30 13:18:27 | Epoch 7/10|train  | Loss:0.1159 Acc:0.9811\n"
     ]
    },
    {
     "name": "stderr",
     "output_type": "stream",
     "text": [
      "44it [02:33,  3.49s/it]\n"
     ]
    },
    {
     "name": "stdout",
     "output_type": "stream",
     "text": [
      "Time 2022/07/30 13:21:01 | Epoch 7/10|valid  | Loss:0.5614 Acc:0.8631\n"
     ]
    },
    {
     "name": "stderr",
     "output_type": "stream",
     "text": [
      "116it [21:23, 11.06s/it]\n"
     ]
    },
    {
     "name": "stdout",
     "output_type": "stream",
     "text": [
      "Time 2022/07/30 13:42:24 | Epoch 8/10|train  | Loss:0.1019 Acc:0.9825\n"
     ]
    },
    {
     "name": "stderr",
     "output_type": "stream",
     "text": [
      "44it [02:39,  3.62s/it]\n"
     ]
    },
    {
     "name": "stdout",
     "output_type": "stream",
     "text": [
      "Time 2022/07/30 13:45:03 | Epoch 8/10|valid  | Loss:0.5878 Acc:0.8588\n"
     ]
    },
    {
     "name": "stderr",
     "output_type": "stream",
     "text": [
      "116it [21:32, 11.15s/it]\n"
     ]
    },
    {
     "name": "stdout",
     "output_type": "stream",
     "text": [
      "Time 2022/07/30 14:06:36 | Epoch 9/10|train  | Loss:0.1001 Acc:0.9833\n"
     ]
    },
    {
     "name": "stderr",
     "output_type": "stream",
     "text": [
      "44it [02:39,  3.63s/it]\n"
     ]
    },
    {
     "name": "stdout",
     "output_type": "stream",
     "text": [
      "Time 2022/07/30 14:09:16 | Epoch 9/10|valid  | Loss:0.5654 Acc:0.8761\n"
     ]
    },
    {
     "name": "stderr",
     "output_type": "stream",
     "text": [
      "116it [20:58, 10.85s/it]\n"
     ]
    },
    {
     "name": "stdout",
     "output_type": "stream",
     "text": [
      "Time 2022/07/30 14:30:14 | Epoch 10/10|train  | Loss:0.0800 Acc:0.9863\n"
     ]
    },
    {
     "name": "stderr",
     "output_type": "stream",
     "text": [
      "44it [02:34,  3.50s/it]"
     ]
    },
    {
     "name": "stdout",
     "output_type": "stream",
     "text": [
      "Time 2022/07/30 14:32:48 | Epoch 10/10|valid  | Loss:0.5756 Acc:0.8703\n"
     ]
    },
    {
     "name": "stderr",
     "output_type": "stream",
     "text": [
      "\n"
     ]
    }
   ],
   "source": [
    "\n",
    "epochs=10\n",
    "scaler = torch.cuda.amp.GradScaler()\n",
    "\n",
    "torch.backends.cudnn.benchmark=True\n",
    "\n",
    "print(time.strftime('%Y/%m/%d %H:%M:%S'))\n",
    "\n",
    "for epoch in range(epochs):\n",
    "\n",
    "    for phase in[\"train\",\"valid\"]:\n",
    "        if phase==\"train\":\n",
    "            model.train()\n",
    "        else:\n",
    "            model.eval()\n",
    "        \n",
    "        epoch_loss = 0.0\n",
    "        epoch_correct=0\n",
    "\n",
    "        for i,batch_data in tqdm(enumerate(dataloaders[phase])):\n",
    "                \n",
    "            optimizer.zero_grad()   \n",
    "            with torch.set_grad_enabled(phase==\"train\"):\n",
    "                with torch.cuda.amp.autocast():\n",
    "                    batch_pred=model(batch_data[\"video\"].to(device))\n",
    "                    loss = criterion(batch_pred,batch_data[\"labels\"].to(device))\n",
    "                    _, predicted = torch.max(batch_pred, 1)\n",
    "                if phase==\"train\":\n",
    "                    scaler.scale(loss).backward()\n",
    "                    scaler.step(optimizer)\n",
    "                    scaler.update()\n",
    "                    \n",
    "                epoch_loss+=loss.item()*batch_data[\"video\"].size(0)\n",
    "                epoch_correct += torch.sum(predicted==batch_data[\"labels\"].to(device))\n",
    "        \n",
    "        epoch_loss=epoch_loss/len(dataloaders[phase].dataset)\n",
    "        epoch_acc=epoch_correct.double()/len(dataloaders[phase].dataset)\n",
    "        \n",
    "        if phase==\"train\":\n",
    "            \n",
    "            train_loss.append(epoch_loss)\n",
    "            train_acc.append(epoch_acc)\n",
    "        else:\n",
    "            test_loss.append(epoch_loss)\n",
    "            test_acc.append(epoch_acc)\n",
    "        print(\"Time {} | Epoch {}/{}|{:5}  | Loss:{:.4f} Acc:{:.4f}\".format(time.strftime('%Y/%m/%d %H:%M:%S'),epoch+1,epochs,phase,epoch_loss,epoch_acc))"
   ]
  },
  {
   "cell_type": "code",
   "execution_count": 15,
   "id": "1422cd8e",
   "metadata": {},
   "outputs": [
    {
     "data": {
      "text/plain": [
       "<matplotlib.legend.Legend at 0x2040c79e288>"
      ]
     },
     "execution_count": 15,
     "metadata": {},
     "output_type": "execute_result"
    },
    {
     "data": {
      "image/png": "[encoded data removed]",
      "text/plain": [
       "<Figure size 432x288 with 1 Axes>"
      ]
     },
     "metadata": {
      "needs_background": "light"
     },
     "output_type": "display_data"
    }
   ],
   "source": [
    "plt.plot(train_loss,label=\"train\")\n",
    "plt.plot(test_loss,label=\"valid\")\n",
    "plt.xlabel(\"epochs\")\n",
    "plt.ylabel(\"loss\")\n",
    "plt.legend()"
   ]
  },
  {
   "cell_type": "markdown",
   "id": "5fa66b70",
   "metadata": {},
   "source": [
    "### モデル保存"
   ]
  },
  {
   "cell_type": "code",
   "execution_count": 16,
   "id": "a98a13a3",
   "metadata": {},
   "outputs": [],
   "source": [
    "model_path = 'anime_classification_0730_epoch_20.pth'\n",
    "torch.save(model.state_dict(), model_path)"
   ]
  },
  {
   "cell_type": "markdown",
   "id": "c26f3de5",
   "metadata": {},
   "source": [
    "### モデルロード"
   ]
  },
  {
   "cell_type": "code",
   "execution_count": 10,
   "id": "9243755c",
   "metadata": {},
   "outputs": [
    {
     "data": {
      "text/plain": [
       "<All keys matched successfully>"
      ]
     },
     "execution_count": 10,
     "metadata": {},
     "output_type": "execute_result"
    }
   ],
   "source": [
    "model_path = 'anime_classification_0730_epoch_20.pth'\n",
    "model.load_state_dict(torch.load(model_path))"
   ]
  },
  {
   "cell_type": "code",
   "execution_count": 17,
   "id": "144e7aa6",
   "metadata": {},
   "outputs": [
    {
     "name": "stderr",
     "output_type": "stream",
     "text": [
      "22it [02:43,  7.43s/it]\n"
     ]
    }
   ],
   "source": [
    "# テストデータ処理\n",
    "preds=[]\n",
    "true=[]\n",
    "path=[]\n",
    "model.eval()\n",
    "for i,batch_data in tqdm(enumerate(dataloaders[\"test\"])):       \n",
    "    batch_pred=model(batch_data[\"video\"].to(device))\n",
    "    _, predicted = torch.max(batch_pred, 1)\n",
    "    path.extend(batch_data[\"paths\"])\n",
    "    true.extend(batch_data[\"labels\"].detach().to(\"cpu\").tolist())\n",
    "    preds.extend(predicted.detach().to(\"cpu\").tolist())"
   ]
  },
  {
   "cell_type": "code",
   "execution_count": 19,
   "id": "f3dcb193",
   "metadata": {},
   "outputs": [
    {
     "name": "stdout",
     "output_type": "stream",
     "text": [
      "0.8591954022988506\n",
      "              precision    recall  f1-score   support\n",
      "\n",
      "           0       0.00      0.00      0.00         5\n",
      "           1       1.00      0.27      0.43        11\n",
      "           2       1.00      0.71      0.83         7\n",
      "           3       0.75      1.00      0.86         6\n",
      "           4       0.89      0.80      0.84        20\n",
      "           5       0.75      1.00      0.86         3\n",
      "           6       0.00      0.00      0.00         0\n",
      "           7       0.00      0.00      0.00         2\n",
      "           8       1.00      1.00      1.00         2\n",
      "           9       1.00      1.00      1.00         1\n",
      "          10       0.67      0.43      0.52        28\n",
      "          11       1.00      0.80      0.89        10\n",
      "          12       0.81      1.00      0.89        21\n",
      "          13       0.86      0.92      0.89        13\n",
      "          14       1.00      0.70      0.82        10\n",
      "          15       0.92      0.81      0.86        27\n",
      "          16       1.00      0.69      0.81        16\n",
      "          17       0.88      1.00      0.94        22\n",
      "          18       0.78      0.91      0.84        64\n",
      "          19       0.65      0.92      0.76        12\n",
      "          20       0.00      0.00      0.00         1\n",
      "          21       1.00      1.00      1.00         2\n",
      "          22       1.00      1.00      1.00         1\n",
      "          23       1.00      0.10      0.18        10\n",
      "          24       1.00      1.00      1.00         5\n",
      "          25       0.84      0.94      0.88        93\n",
      "          26       0.87      0.98      0.92        41\n",
      "          28       0.96      0.96      0.96        80\n",
      "          29       1.00      0.73      0.85        15\n",
      "          30       1.00      1.00      1.00        23\n",
      "          31       1.00      1.00      1.00         5\n",
      "          32       1.00      0.93      0.96        14\n",
      "          33       0.81      0.92      0.86        83\n",
      "          34       0.85      0.89      0.87        19\n",
      "          35       0.67      1.00      0.80         6\n",
      "          36       1.00      0.78      0.88         9\n",
      "          37       0.78      0.78      0.78         9\n",
      "\n",
      "    accuracy                           0.86       696\n",
      "   macro avg       0.80      0.76      0.76       696\n",
      "weighted avg       0.86      0.86      0.85       696\n",
      "\n"
     ]
    },
    {
     "name": "stderr",
     "output_type": "stream",
     "text": [
      "E:\\anaconda3\\lib\\site-packages\\sklearn\\metrics\\_classification.py:1318: UndefinedMetricWarning: Precision and F-score are ill-defined and being set to 0.0 in labels with no predicted samples. Use `zero_division` parameter to control this behavior.\n",
      "  _warn_prf(average, modifier, msg_start, len(result))\n",
      "E:\\anaconda3\\lib\\site-packages\\sklearn\\metrics\\_classification.py:1318: UndefinedMetricWarning: Recall and F-score are ill-defined and being set to 0.0 in labels with no true samples. Use `zero_division` parameter to control this behavior.\n",
      "  _warn_prf(average, modifier, msg_start, len(result))\n",
      "E:\\anaconda3\\lib\\site-packages\\sklearn\\metrics\\_classification.py:1318: UndefinedMetricWarning: Precision and F-score are ill-defined and being set to 0.0 in labels with no predicted samples. Use `zero_division` parameter to control this behavior.\n",
      "  _warn_prf(average, modifier, msg_start, len(result))\n",
      "E:\\anaconda3\\lib\\site-packages\\sklearn\\metrics\\_classification.py:1318: UndefinedMetricWarning: Recall and F-score are ill-defined and being set to 0.0 in labels with no true samples. Use `zero_division` parameter to control this behavior.\n",
      "  _warn_prf(average, modifier, msg_start, len(result))\n",
      "E:\\anaconda3\\lib\\site-packages\\sklearn\\metrics\\_classification.py:1318: UndefinedMetricWarning: Precision and F-score are ill-defined and being set to 0.0 in labels with no predicted samples. Use `zero_division` parameter to control this behavior.\n",
      "  _warn_prf(average, modifier, msg_start, len(result))\n",
      "E:\\anaconda3\\lib\\site-packages\\sklearn\\metrics\\_classification.py:1318: UndefinedMetricWarning: Recall and F-score are ill-defined and being set to 0.0 in labels with no true samples. Use `zero_division` parameter to control this behavior.\n",
      "  _warn_prf(average, modifier, msg_start, len(result))\n"
     ]
    }
   ],
   "source": [
    "print(accuracy_score(true, preds))\n",
    "print(classification_report(true, preds))"
   ]
  },
  {
   "cell_type": "code",
   "execution_count": 21,
   "id": "a1646a9e",
   "metadata": {},
   "outputs": [],
   "source": [
    "category_id2title=dict()\n",
    "for i,j in category.items():\n",
    "    category_id2title[j]=i"
   ]
  },
  {
   "cell_type": "code",
   "execution_count": 23,
   "id": "7676e9ba",
   "metadata": {},
   "outputs": [
    {
     "data": {
      "text/plain": [
       "<AxesSubplot:>"
      ]
     },
     "execution_count": 23,
     "metadata": {},
     "output_type": "execute_result"
    },
    {
     "data": {
      "image/png": "[encoded data removed]",
      "text/plain": [
       "<Figure size 432x288 with 2 Axes>"
      ]
     },
     "metadata": {
      "needs_background": "light"
     },
     "output_type": "display_data"
    }
   ],
   "source": [
    "cm = confusion_matrix(true, preds)\n",
    "sns.heatmap(cm,square=False, cbar=True, annot=False, cmap='Blues')"
   ]
  },
  {
   "cell_type": "code",
   "execution_count": null,
   "id": "3e2383af",
   "metadata": {},
   "outputs": [],
   "source": []
  }
 ],
 "metadata": {
  "kernelspec": {
   "display_name": "Python 3",
   "language": "python",
   "name": "python3"
  },
  "language_info": {
   "codemirror_mode": {
    "name": "ipython",
    "version": 3
   },
   "file_extension": ".py",
   "mimetype": "text/x-python",
   "name": "python",
   "nbconvert_exporter": "python",
   "pygments_lexer": "ipython3",
   "version": "3.7.4"
  },
  "toc": {
   "base_numbering": 1,
   "nav_menu": {},
   "number_sections": true,
   "sideBar": true,
   "skip_h1_title": false,
   "title_cell": "Table of Contents",
   "title_sidebar": "Contents",
   "toc_cell": false,
   "toc_position": {},
   "toc_section_display": true,
   "toc_window_display": false
  }
 },
 "nbformat": 4,
 "nbformat_minor": 5
}
